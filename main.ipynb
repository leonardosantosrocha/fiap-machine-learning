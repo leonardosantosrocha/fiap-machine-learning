{
 "cells": [
  {
   "cell_type": "markdown",
   "metadata": {},
   "source": [
    "#### Instala os módulos necessários"
   ]
  },
  {
   "cell_type": "code",
   "execution_count": null,
   "metadata": {},
   "outputs": [],
   "source": [
    "%pip install numpy\n",
    "%pip install pandas\n",
    "%pip install scikit-learn"
   ]
  },
  {
   "cell_type": "markdown",
   "metadata": {},
   "source": [
    "#### Importa os módulos necessários"
   ]
  },
  {
   "cell_type": "code",
   "execution_count": 1,
   "metadata": {},
   "outputs": [],
   "source": [
    "import numpy as np\n",
    "import pandas as pd\n",
    "from sklearn.ensemble import RandomForestRegressor\n",
    "from sklearn.impute import KNNImputer\n",
    "from sklearn.metrics import mean_absolute_error, mean_squared_error, r2_score\n",
    "from sklearn.model_selection import train_test_split, GridSearchCV"
   ]
  },
  {
   "cell_type": "markdown",
   "metadata": {},
   "source": [
    "#### Análise exploratória, feature engineering, treinamento e avaliação do modelo"
   ]
  },
  {
   "cell_type": "code",
   "execution_count": 2,
   "metadata": {},
   "outputs": [],
   "source": [
    "raw = pd.read_csv(r\"_datasets/dataset.csv\")"
   ]
  },
  {
   "cell_type": "code",
   "execution_count": null,
   "metadata": {},
   "outputs": [],
   "source": [
    "raw.head(5)"
   ]
  },
  {
   "cell_type": "code",
   "execution_count": null,
   "metadata": {},
   "outputs": [],
   "source": [
    "raw.info()"
   ]
  },
  {
   "cell_type": "markdown",
   "metadata": {},
   "source": [
    "A variável \"total_bedrooms\" apresenta 207 nulos, dessa forma, realizaremos a inputação dos dados utilizando a função [KNNImputer](https://scikit-learn.org/stable/modules/generated/sklearn.impute.KNNImputer.html) do SKLearn para preencher os valores ausentes. De modo geral, a função aplica a média (ou outra estatistica de sua preferência) dos \"k\" vizinhos mais próximos do dado faltante e atribui o resultado ele.\n",
    "\n",
    "Entretanto, para isso, precisaremos converter a variável \"ocean_proximity\" para valores numéricos, visto que o KNNImputer não consegue lidar com textos. Para isso, assumiremos que quanto mais próximo o imóvel está em relação ao oceano, maior será o seu valor. Sendo assim, precisaremos descobrir quais são as categorias e a média de valor dos imóveis para cada uma delas."
   ]
  },
  {
   "cell_type": "code",
   "execution_count": null,
   "metadata": {},
   "outputs": [],
   "source": [
    "raw.groupby(by=\"ocean_proximity\")[\"median_house_value\"].mean().sort_values(ascending=False)"
   ]
  },
  {
   "cell_type": "markdown",
   "metadata": {},
   "source": [
    "Note que a variável \"ocean_proximity\" possui 5 categorias: ISLAND, ou ilha; NEAR BAY, ou próximo ao baia; NEAR OCEAN, ou próximo ao oceano; <1H OCEAN, ou menos de uma hora de distância do oceano; e, INLAND, ou interior. Neste caso, atribuiremos pesos (1.0, 0.8, 0.6, 0.4, 0.2) a cada categoria, priorizando aquelas em que o imóvel está mais próximo do oceano, visto que a nossa hipótese é que imóveis localizados mais próximos do oceano em média são mais valorizados."
   ]
  },
  {
   "cell_type": "code",
   "execution_count": 6,
   "metadata": {},
   "outputs": [],
   "source": [
    "raw[\"ocean_proximity\"] = raw[\"ocean_proximity\"].apply(lambda x: 1.0 if x == \"ISLAND\" else x)\n",
    "raw[\"ocean_proximity\"] = raw[\"ocean_proximity\"].apply(lambda x: 0.8 if x == \"NEAR BAY\" else x)\n",
    "raw[\"ocean_proximity\"] = raw[\"ocean_proximity\"].apply(lambda x: 0.6 if x == \"NEAR OCEAN\" else x)\n",
    "raw[\"ocean_proximity\"] = raw[\"ocean_proximity\"].apply(lambda x: 0.4 if x == \"<1H OCEAN\" else x)\n",
    "raw[\"ocean_proximity\"] = raw[\"ocean_proximity\"].apply(lambda x: 0.2 if x == \"INLAND\" else x)"
   ]
  },
  {
   "cell_type": "code",
   "execution_count": null,
   "metadata": {},
   "outputs": [],
   "source": [
    "raw.groupby(by=\"ocean_proximity\")[\"median_house_value\"].mean().sort_values(ascending=False)"
   ]
  },
  {
   "cell_type": "markdown",
   "metadata": {},
   "source": [
    "Neste momento, o conjunto de dados possui apenas dados numéricos, ou seja, podemos aplicar a função KNNImputer para preencher os dados faltantes. Não somente, aproveitaremos a oportunidade para utilizar a função [GridSearch](https://scikit-learn.org/stable/modules/generated/sklearn.model_selection.GridSearchCV.html) do SKLearn, que de modo geral, a partir da definição de uma lista de hiperparâmetros, realiza a busca pela melhor combinação para treinar o modelo."
   ]
  },
  {
   "cell_type": "code",
   "execution_count": null,
   "metadata": {},
   "outputs": [],
   "source": [
    "k_values = [2, 3, 4, 5]\n",
    "\n",
    "custom_parameters = {\n",
    "    \"n_estimators\" : [10, 25, 50, 100],\n",
    "    \"max_depth\" : [None, 1, 2, 3, 4, 5],\n",
    "    \"min_samples_split\" : [None, 1, 2, 3, 4, 5],\n",
    "    \"min_samples_leaf\" : [None, 1, 2, 3, 4, 5]\n",
    "}\n",
    "\n",
    "for k in k_values:\n",
    "    stage = raw \n",
    "\n",
    "    cols_names = list(stage.columns)\n",
    "\n",
    "    imputer = KNNImputer(n_neighbors=k)\n",
    "\n",
    "    stage = pd.DataFrame(imputer.fit_transform(stage), columns=cols_names)\n",
    "\n",
    "    x = stage[[\"longitude\", \"latitude\", \"housing_median_age\", \"total_rooms\", \"total_bedrooms\", \"population\", \"households\", \"median_income\", \"ocean_proximity\"]]\n",
    "\n",
    "    y = stage[\"median_house_value\"]\n",
    "\n",
    "    x_train, x_test, y_train, y_test = train_test_split(x, y, test_size=0.3, random_state=42)\n",
    "\n",
    "    random_forest = RandomForestRegressor(random_state=42)\n",
    "\n",
    "    grid_search = GridSearchCV(estimator=random_forest, param_grid=custom_parameters, cv=5, scoring=\"neg_mean_squared_error\", verbose=1, n_jobs=6)\n",
    "\n",
    "    grid_search.fit(x_train, y_train)\n",
    "\n",
    "    best_model = grid_search.best_estimator_\n",
    "\n",
    "    y_pred = best_model.predict(x_test)\n",
    "\n",
    "    mae = mean_absolute_error(y_test, y_pred)\n",
    "    mse = mean_squared_error(y_test, y_pred)\n",
    "    rmse = np.sqrt(mean_squared_error(y_test, y_pred))\n",
    "    r2 = r2_score(y_test, y_pred)\n",
    "\n",
    "    print(f\"################################################## KNNImputer = {k} ##################################################\")\n",
    "    print(f\"Erro Absoluto Médio (MAE): {mae}\")\n",
    "    print(f\"Erro Quadrático Médio (MSE): {mse}\")\n",
    "    print(f\"Raiz do Erro Quadrático Médio (RMSE): {rmse}\")\n",
    "    print(f\"Coeficiênte de Determinação (R²): {r2}\")\n",
    "    print(f\"Melhores Hiperparâmetros: {grid_search.best_params_}\")\n",
    "    print(f\"######################################################################################################################\\n\\n\")"
   ]
  }
 ],
 "metadata": {
  "kernelspec": {
   "display_name": "Python 3",
   "language": "python",
   "name": "python3"
  },
  "language_info": {
   "codemirror_mode": {
    "name": "ipython",
    "version": 3
   },
   "file_extension": ".py",
   "mimetype": "text/x-python",
   "name": "python",
   "nbconvert_exporter": "python",
   "pygments_lexer": "ipython3",
   "version": "3.10.12"
  }
 },
 "nbformat": 4,
 "nbformat_minor": 2
}
