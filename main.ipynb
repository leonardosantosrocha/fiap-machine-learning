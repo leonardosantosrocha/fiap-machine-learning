{
 "cells": [
  {
   "cell_type": "markdown",
   "metadata": {},
   "source": [
    "#### Instala os módulos necessários"
   ]
  },
  {
   "cell_type": "code",
   "execution_count": 1,
   "metadata": {},
   "outputs": [
    {
     "name": "stdout",
     "output_type": "stream",
     "text": [
      "Defaulting to user installation because normal site-packages is not writeable\n",
      "Requirement already satisfied: numpy in /home/leonardo/.local/lib/python3.10/site-packages (1.26.4)\n",
      "Note: you may need to restart the kernel to use updated packages.\n",
      "Defaulting to user installation because normal site-packages is not writeable\n",
      "Requirement already satisfied: pandas in /home/leonardo/.local/lib/python3.10/site-packages (2.2.2)\n",
      "Requirement already satisfied: numpy>=1.22.4 in /home/leonardo/.local/lib/python3.10/site-packages (from pandas) (1.26.4)\n",
      "Requirement already satisfied: tzdata>=2022.7 in /home/leonardo/.local/lib/python3.10/site-packages (from pandas) (2024.2)\n",
      "Requirement already satisfied: python-dateutil>=2.8.2 in /home/leonardo/.local/lib/python3.10/site-packages (from pandas) (2.9.0.post0)\n",
      "Requirement already satisfied: pytz>=2020.1 in /usr/lib/python3/dist-packages (from pandas) (2022.1)\n",
      "Requirement already satisfied: six>=1.5 in /usr/lib/python3/dist-packages (from python-dateutil>=2.8.2->pandas) (1.16.0)\n",
      "Note: you may need to restart the kernel to use updated packages.\n",
      "Defaulting to user installation because normal site-packages is not writeable\n",
      "Requirement already satisfied: scikit-learn in /home/leonardo/.local/lib/python3.10/site-packages (1.5.2)\n",
      "Requirement already satisfied: numpy>=1.19.5 in /home/leonardo/.local/lib/python3.10/site-packages (from scikit-learn) (1.26.4)\n",
      "Requirement already satisfied: joblib>=1.2.0 in /home/leonardo/.local/lib/python3.10/site-packages (from scikit-learn) (1.4.2)\n",
      "Requirement already satisfied: scipy>=1.6.0 in /home/leonardo/.local/lib/python3.10/site-packages (from scikit-learn) (1.14.1)\n",
      "Requirement already satisfied: threadpoolctl>=3.1.0 in /home/leonardo/.local/lib/python3.10/site-packages (from scikit-learn) (3.5.0)\n",
      "Note: you may need to restart the kernel to use updated packages.\n",
      "Defaulting to user installation because normal site-packages is not writeable\n",
      "\u001b[31mERROR: Could not find a version that satisfies the requirement warnings (from versions: none)\u001b[0m\u001b[31m\n",
      "\u001b[0m\u001b[31mERROR: No matching distribution found for warnings\u001b[0m\u001b[31m\n",
      "\u001b[0mNote: you may need to restart the kernel to use updated packages.\n",
      "Defaulting to user installation because normal site-packages is not writeable\n",
      "Requirement already satisfied: xgboost in /home/leonardo/.local/lib/python3.10/site-packages (2.1.1)\n",
      "Requirement already satisfied: nvidia-nccl-cu12 in /home/leonardo/.local/lib/python3.10/site-packages (from xgboost) (2.23.4)\n",
      "Requirement already satisfied: numpy in /home/leonardo/.local/lib/python3.10/site-packages (from xgboost) (1.26.4)\n",
      "Requirement already satisfied: scipy in /home/leonardo/.local/lib/python3.10/site-packages (from xgboost) (1.14.1)\n",
      "Note: you may need to restart the kernel to use updated packages.\n",
      "Defaulting to user installation because normal site-packages is not writeable\n",
      "Requirement already satisfied: lightgbm in /home/leonardo/.local/lib/python3.10/site-packages (4.5.0)\n",
      "Requirement already satisfied: numpy>=1.17.0 in /home/leonardo/.local/lib/python3.10/site-packages (from lightgbm) (1.26.4)\n",
      "Requirement already satisfied: scipy in /home/leonardo/.local/lib/python3.10/site-packages (from lightgbm) (1.14.1)\n",
      "Note: you may need to restart the kernel to use updated packages.\n"
     ]
    }
   ],
   "source": [
    "%pip install numpy\n",
    "%pip install pandas\n",
    "%pip install scikit-learn\n",
    "%pip install warnings\n",
    "%pip install xgboost\n",
    "%pip install lightgbm"
   ]
  },
  {
   "cell_type": "markdown",
   "metadata": {},
   "source": [
    "#### Importa os módulos necessários"
   ]
  },
  {
   "cell_type": "code",
   "execution_count": 2,
   "metadata": {},
   "outputs": [],
   "source": [
    "from sklearn.ensemble import RandomForestRegressor\n",
    "from sklearn.metrics import mean_absolute_error, mean_squared_error, r2_score\n",
    "from sklearn.model_selection import train_test_split, GridSearchCV\n",
    "from sklearn.impute import KNNImputer\n",
    "from xgboost import XGBRegressor\n",
    "from lightgbm import LGBMRegressor\n",
    "import lightgbm as lgb\n",
    "import numpy as np\n",
    "import pandas as pd\n",
    "import warnings"
   ]
  },
  {
   "cell_type": "markdown",
   "metadata": {},
   "source": [
    "#### Ignora warnings que serão gerados"
   ]
  },
  {
   "cell_type": "code",
   "execution_count": 3,
   "metadata": {},
   "outputs": [],
   "source": [
    "warnings.filterwarnings(\"ignore\")"
   ]
  },
  {
   "cell_type": "markdown",
   "metadata": {},
   "source": [
    "#### Análise exploratória, feature engineering, treinamento e avaliação do modelo"
   ]
  },
  {
   "cell_type": "code",
   "execution_count": 4,
   "metadata": {},
   "outputs": [],
   "source": [
    "raw = pd.read_csv(r\"_datasets/dataset.csv\")"
   ]
  },
  {
   "cell_type": "code",
   "execution_count": 5,
   "metadata": {},
   "outputs": [
    {
     "data": {
      "text/html": [
       "<div>\n",
       "<style scoped>\n",
       "    .dataframe tbody tr th:only-of-type {\n",
       "        vertical-align: middle;\n",
       "    }\n",
       "\n",
       "    .dataframe tbody tr th {\n",
       "        vertical-align: top;\n",
       "    }\n",
       "\n",
       "    .dataframe thead th {\n",
       "        text-align: right;\n",
       "    }\n",
       "</style>\n",
       "<table border=\"1\" class=\"dataframe\">\n",
       "  <thead>\n",
       "    <tr style=\"text-align: right;\">\n",
       "      <th></th>\n",
       "      <th>longitude</th>\n",
       "      <th>latitude</th>\n",
       "      <th>housing_median_age</th>\n",
       "      <th>total_rooms</th>\n",
       "      <th>total_bedrooms</th>\n",
       "      <th>population</th>\n",
       "      <th>households</th>\n",
       "      <th>median_income</th>\n",
       "      <th>median_house_value</th>\n",
       "      <th>ocean_proximity</th>\n",
       "    </tr>\n",
       "  </thead>\n",
       "  <tbody>\n",
       "    <tr>\n",
       "      <th>0</th>\n",
       "      <td>-122.23</td>\n",
       "      <td>37.88</td>\n",
       "      <td>41.0</td>\n",
       "      <td>880.0</td>\n",
       "      <td>129.0</td>\n",
       "      <td>322.0</td>\n",
       "      <td>126.0</td>\n",
       "      <td>8.3252</td>\n",
       "      <td>452600.0</td>\n",
       "      <td>NEAR BAY</td>\n",
       "    </tr>\n",
       "    <tr>\n",
       "      <th>1</th>\n",
       "      <td>-122.22</td>\n",
       "      <td>37.86</td>\n",
       "      <td>21.0</td>\n",
       "      <td>7099.0</td>\n",
       "      <td>1106.0</td>\n",
       "      <td>2401.0</td>\n",
       "      <td>1138.0</td>\n",
       "      <td>8.3014</td>\n",
       "      <td>358500.0</td>\n",
       "      <td>NEAR BAY</td>\n",
       "    </tr>\n",
       "    <tr>\n",
       "      <th>2</th>\n",
       "      <td>-122.24</td>\n",
       "      <td>37.85</td>\n",
       "      <td>52.0</td>\n",
       "      <td>1467.0</td>\n",
       "      <td>190.0</td>\n",
       "      <td>496.0</td>\n",
       "      <td>177.0</td>\n",
       "      <td>7.2574</td>\n",
       "      <td>352100.0</td>\n",
       "      <td>NEAR BAY</td>\n",
       "    </tr>\n",
       "    <tr>\n",
       "      <th>3</th>\n",
       "      <td>-122.25</td>\n",
       "      <td>37.85</td>\n",
       "      <td>52.0</td>\n",
       "      <td>1274.0</td>\n",
       "      <td>235.0</td>\n",
       "      <td>558.0</td>\n",
       "      <td>219.0</td>\n",
       "      <td>5.6431</td>\n",
       "      <td>341300.0</td>\n",
       "      <td>NEAR BAY</td>\n",
       "    </tr>\n",
       "    <tr>\n",
       "      <th>4</th>\n",
       "      <td>-122.25</td>\n",
       "      <td>37.85</td>\n",
       "      <td>52.0</td>\n",
       "      <td>1627.0</td>\n",
       "      <td>280.0</td>\n",
       "      <td>565.0</td>\n",
       "      <td>259.0</td>\n",
       "      <td>3.8462</td>\n",
       "      <td>342200.0</td>\n",
       "      <td>NEAR BAY</td>\n",
       "    </tr>\n",
       "  </tbody>\n",
       "</table>\n",
       "</div>"
      ],
      "text/plain": [
       "   longitude  latitude  housing_median_age  total_rooms  total_bedrooms  \\\n",
       "0    -122.23     37.88                41.0        880.0           129.0   \n",
       "1    -122.22     37.86                21.0       7099.0          1106.0   \n",
       "2    -122.24     37.85                52.0       1467.0           190.0   \n",
       "3    -122.25     37.85                52.0       1274.0           235.0   \n",
       "4    -122.25     37.85                52.0       1627.0           280.0   \n",
       "\n",
       "   population  households  median_income  median_house_value ocean_proximity  \n",
       "0       322.0       126.0         8.3252            452600.0        NEAR BAY  \n",
       "1      2401.0      1138.0         8.3014            358500.0        NEAR BAY  \n",
       "2       496.0       177.0         7.2574            352100.0        NEAR BAY  \n",
       "3       558.0       219.0         5.6431            341300.0        NEAR BAY  \n",
       "4       565.0       259.0         3.8462            342200.0        NEAR BAY  "
      ]
     },
     "execution_count": 5,
     "metadata": {},
     "output_type": "execute_result"
    }
   ],
   "source": [
    "raw.head(5)"
   ]
  },
  {
   "cell_type": "code",
   "execution_count": 6,
   "metadata": {},
   "outputs": [
    {
     "name": "stdout",
     "output_type": "stream",
     "text": [
      "<class 'pandas.core.frame.DataFrame'>\n",
      "RangeIndex: 20640 entries, 0 to 20639\n",
      "Data columns (total 10 columns):\n",
      " #   Column              Non-Null Count  Dtype  \n",
      "---  ------              --------------  -----  \n",
      " 0   longitude           20640 non-null  float64\n",
      " 1   latitude            20640 non-null  float64\n",
      " 2   housing_median_age  20640 non-null  float64\n",
      " 3   total_rooms         20640 non-null  float64\n",
      " 4   total_bedrooms      20433 non-null  float64\n",
      " 5   population          20640 non-null  float64\n",
      " 6   households          20640 non-null  float64\n",
      " 7   median_income       20640 non-null  float64\n",
      " 8   median_house_value  20640 non-null  float64\n",
      " 9   ocean_proximity     20640 non-null  object \n",
      "dtypes: float64(9), object(1)\n",
      "memory usage: 1.6+ MB\n"
     ]
    }
   ],
   "source": [
    "raw.info()"
   ]
  },
  {
   "cell_type": "markdown",
   "metadata": {},
   "source": [
    "A variável \"total_bedrooms\" apresenta 207 nulos, dessa forma, realizaremos a inputação dos dados utilizando a função [KNNImputer](https://scikit-learn.org/stable/modules/generated/sklearn.impute.KNNImputer.html) do SKLearn para preencher os valores ausentes. De modo geral, a função aplica a média (ou outra estatistica de sua preferência) dos \"k\" vizinhos mais próximos do dado faltante e atribui o resultado ele.\n",
    "\n",
    "Entretanto, para isso, precisaremos converter a variável \"ocean_proximity\" para valores numéricos, visto que o KNNImputer não consegue lidar com textos. Para isso, assumiremos que quanto mais próximo o imóvel está em relação ao oceano, maior será o seu valor. Sendo assim, precisaremos descobrir quais são as categorias e a média de valor dos imóveis para cada uma delas."
   ]
  },
  {
   "cell_type": "code",
   "execution_count": 7,
   "metadata": {},
   "outputs": [
    {
     "data": {
      "text/plain": [
       "ocean_proximity\n",
       "ISLAND        380440.000000\n",
       "NEAR BAY      259212.311790\n",
       "NEAR OCEAN    249433.977427\n",
       "<1H OCEAN     240084.285464\n",
       "INLAND        124805.392001\n",
       "Name: median_house_value, dtype: float64"
      ]
     },
     "execution_count": 7,
     "metadata": {},
     "output_type": "execute_result"
    }
   ],
   "source": [
    "raw.groupby(by=\"ocean_proximity\")[\"median_house_value\"].mean().sort_values(ascending=False)"
   ]
  },
  {
   "cell_type": "markdown",
   "metadata": {},
   "source": [
    "Note que a variável \"ocean_proximity\" possui 5 categorias: ISLAND, ou ilha; NEAR BAY, ou próximo ao baia; NEAR OCEAN, ou próximo ao oceano; <1H OCEAN, ou menos de uma hora de distância do oceano; e, INLAND, ou interior. Neste caso, atribuiremos pesos (1.0, 0.8, 0.6, 0.4, 0.2) a cada categoria, priorizando aquelas em que o imóvel está mais próximo do oceano, visto que a nossa hipótese é que imóveis localizados mais próximos do oceano em média são mais valorizados."
   ]
  },
  {
   "cell_type": "code",
   "execution_count": 8,
   "metadata": {},
   "outputs": [],
   "source": [
    "raw[\"ocean_proximity\"] = raw[\"ocean_proximity\"].apply(lambda x: 1.0 if x == \"ISLAND\" else x)\n",
    "raw[\"ocean_proximity\"] = raw[\"ocean_proximity\"].apply(lambda x: 0.8 if x == \"NEAR BAY\" else x)\n",
    "raw[\"ocean_proximity\"] = raw[\"ocean_proximity\"].apply(lambda x: 0.6 if x == \"NEAR OCEAN\" else x)\n",
    "raw[\"ocean_proximity\"] = raw[\"ocean_proximity\"].apply(lambda x: 0.4 if x == \"<1H OCEAN\" else x)\n",
    "raw[\"ocean_proximity\"] = raw[\"ocean_proximity\"].apply(lambda x: 0.2 if x == \"INLAND\" else x)"
   ]
  },
  {
   "cell_type": "code",
   "execution_count": 9,
   "metadata": {},
   "outputs": [
    {
     "data": {
      "text/plain": [
       "ocean_proximity\n",
       "1.0    380440.000000\n",
       "0.8    259212.311790\n",
       "0.6    249433.977427\n",
       "0.4    240084.285464\n",
       "0.2    124805.392001\n",
       "Name: median_house_value, dtype: float64"
      ]
     },
     "execution_count": 9,
     "metadata": {},
     "output_type": "execute_result"
    }
   ],
   "source": [
    "raw.groupby(by=\"ocean_proximity\")[\"median_house_value\"].mean().sort_values(ascending=False)"
   ]
  },
  {
   "cell_type": "markdown",
   "metadata": {},
   "source": [
    "Neste momento, o conjunto de dados possui apenas dados numéricos, ou seja, podemos aplicar a função KNNImputer para preencher os dados faltantes. Entretanto, precisamos definir qual o melhor valor para \"k\", portanto, iremos criar uma lista com valores de 2 a 5, e em seguida, testar cada um dos conjuntos de dados nos modelos que serão treinados."
   ]
  },
  {
   "cell_type": "code",
   "execution_count": 10,
   "metadata": {},
   "outputs": [],
   "source": [
    "k_values = [2, 3, 4, 5]\n",
    "\n",
    "specs = []\n",
    "\n",
    "for k in k_values:\n",
    "    # Reseta o dataframe \"stage\" para os dados do dataframe \"raw\"\n",
    "    stage = raw.copy()\n",
    "\n",
    "    # Armazena o nome das colunas do dataframe \"stage\" em uma lista\n",
    "    cols_names = list(stage.columns)\n",
    "\n",
    "    # Instancia o KNNImputer com \"k\" vizinhos para imputar os dados faltantes\n",
    "    imputer = KNNImputer(n_neighbors=k)\n",
    "\n",
    "    # Adiciona o dataframe \"spec\" com o resultado KNNImputer e renomeia colunas\n",
    "    specs.append(pd.DataFrame(imputer.fit_transform(stage), columns=cols_names))"
   ]
  },
  {
   "cell_type": "markdown",
   "metadata": {},
   "source": [
    "Sem dados faltantes, realizaremos o treinamento do [RandomForest Regressor](https://scikit-learn.org/stable/modules/generated/sklearn.ensemble.RandomForestRegressor.html), que de maneira geral, faz o ensamble (ou combinação) de \"n\" árvores de regressão para gerar um modelo final, utilizando a função [GridSearchCV](https://scikit-learn.org/stable/modules/generated/sklearn.model_selection.GridSearchCV.html) do SKLearn, que de modo geral, testa a combinação de \"m\" parâmtros que são definidos em uma lista de parâmetros e, por fim, apresenta o melhor resultado."
   ]
  },
  {
   "cell_type": "code",
   "execution_count": 11,
   "metadata": {},
   "outputs": [
    {
     "name": "stdout",
     "output_type": "stream",
     "text": [
      "Fitting 5 folds for each of 864 candidates, totalling 4320 fits\n",
      "Fitting 5 folds for each of 864 candidates, totalling 4320 fits\n",
      "Fitting 5 folds for each of 864 candidates, totalling 4320 fits\n",
      "Fitting 5 folds for each of 864 candidates, totalling 4320 fits\n"
     ]
    }
   ],
   "source": [
    "rf_results = {\n",
    "    \"RMSE\" : [],\n",
    "    \"R2\" : [],\n",
    "    \"PARAMS\" : []\n",
    "}\n",
    "\n",
    "rf_custom_parameters = {\n",
    "    \"n_estimators\" : [10, 25, 50, 100],\n",
    "    \"max_depth\" : [None, 1, 2, 3, 4, 5],\n",
    "    \"min_samples_split\" : [None, 1, 2, 3, 4, 5],\n",
    "    \"min_samples_leaf\" : [None, 1, 2, 3, 4, 5]\n",
    "}\n",
    "\n",
    "for spec in specs:\n",
    "    # Separa as variáveis entre preditoras \"x\" e predita \"y\" e converte para float32\n",
    "    x = spec[[\"longitude\", \"latitude\", \"housing_median_age\", \"total_rooms\", \"total_bedrooms\", \"population\", \"households\", \"median_income\", \"ocean_proximity\"]].astype(\"float32\")\n",
    "    y = spec[\"median_house_value\"].astype(\"float32\")\n",
    "\n",
    "    # Separa os dados entre conjuntos de treino e teste \n",
    "    x_train, x_test, y_train, y_test = train_test_split(x, y, test_size=0.3, random_state=42)\n",
    "\n",
    "    # Instancia o RandomForestRegressor com random_state 42\n",
    "    rf = RandomForestRegressor(random_state=42)\n",
    "\n",
    "    # Utiliza o GridSearchCV para estimar os melhores parâmetros utilizados para treinar o modelo\n",
    "    rf_grid_search = GridSearchCV(estimator=rf, param_grid=rf_custom_parameters, cv=5, scoring=\"neg_mean_squared_error\", verbose=True, n_jobs=-1)\n",
    "\n",
    "    # Realiza o treinamento do modelo com dados de treino\n",
    "    rf_grid_search.fit(x_train, y_train)\n",
    "\n",
    "    # Elege o melhor modelo utilizando a função best_estimator_\n",
    "    rf_best_model = rf_grid_search.best_estimator_\n",
    "\n",
    "    # Realiza a predição com base no melhor modelo\n",
    "    rf_y_pred = rf_best_model.predict(x_test)\n",
    "\n",
    "    # Calcula as métricas de erro do modelo RMSE e R2\n",
    "    rmse = np.sqrt(mean_squared_error(y_test, rf_y_pred))\n",
    "    r2 = r2_score(y_test, rf_y_pred)\n",
    "\n",
    "    # Adiciona o resultado do treinamento a lista de resultados\n",
    "    rf_results.get(\"RMSE\").append(round(rmse, 2))\n",
    "    rf_results.get(\"R2\").append(round(r2, 2))\n",
    "    rf_results.get(\"PARAMS\").append(rf_grid_search.best_params_)"
   ]
  },
  {
   "cell_type": "code",
   "execution_count": 12,
   "metadata": {},
   "outputs": [
    {
     "name": "stdout",
     "output_type": "stream",
     "text": [
      "================================================== RESULTADOS ==================================================\n",
      "RMSE: [48549.87, 48503.09, 48525.66, 48540.95]\n",
      "R²: [0.82, 0.82, 0.82, 0.82]\n",
      "PARAMS: [{'max_depth': None, 'min_samples_leaf': 2, 'min_samples_split': 2, 'n_estimators': 100}, {'max_depth': None, 'min_samples_leaf': 2, 'min_samples_split': 2, 'n_estimators': 100}, {'max_depth': None, 'min_samples_leaf': 2, 'min_samples_split': 2, 'n_estimators': 100}, {'max_depth': None, 'min_samples_leaf': 2, 'min_samples_split': 2, 'n_estimators': 100}]\n",
      "================================================================================================================\n",
      "\n",
      "\n",
      "=================================================== VENCEDOR ===================================================\n",
      "RMSE: 48503.09\n",
      "R²: 0.82\n",
      "PARAMS: {'max_depth': None, 'min_samples_leaf': 2, 'min_samples_split': 2, 'n_estimators': 100}\n",
      "================================================================================================================\n"
     ]
    }
   ],
   "source": [
    "print(\"================================================== RESULTADOS ==================================================\")\n",
    "print(f\"RMSE: {rf_results.get('RMSE')}\")\n",
    "print(f\"R²: {rf_results.get('R2')}\")\n",
    "print(f\"PARAMS: {rf_results.get('PARAMS')}\")\n",
    "print(\"================================================================================================================\\n\\n\")\n",
    "\n",
    "print(\"=================================================== VENCEDOR ===================================================\")\n",
    "print(f\"RMSE: {rf_results.get('RMSE')[1]}\")\n",
    "print(f\"R²: {rf_results.get('R2')[1]}\")\n",
    "print(f\"PARAMS: {rf_results.get('PARAMS')[1]}\")\n",
    "print(\"================================================================================================================\")"
   ]
  },
  {
   "cell_type": "markdown",
   "metadata": {},
   "source": [
    "Conforme apresentado acima, o melhor valor de \"k\" para realizar a inputação dos dados foi 3, visto que o RMSE (ou Raiz do Erro Quadrático Médio) apresentou o valor mais baixo foi 48503.1, ou seja, o índice 2 da lista de resultados \"rf_results\", cujo k = 3. Sendo assim, realizaremos o treinamento utilizando o [XGBoost Regressor](https://xgboost.readthedocs.io/en/latest/python/python_api.html#xgboost.XGBRegressor), que de maneira geral, também combina o resultado de árvores de regressão, porém, diferente do [RandomForest Regressor](https://scikit-learn.org/stable/modules/generated/sklearn.ensemble.RandomForestRegressor.html), o XGBRegressor aprende com os erros da última árvore treinada - ou seja, melhora os resultados com base no aprendizado anterior."
   ]
  },
  {
   "cell_type": "code",
   "execution_count": 13,
   "metadata": {},
   "outputs": [
    {
     "name": "stdout",
     "output_type": "stream",
     "text": [
      "Fitting 5 folds for each of 3456 candidates, totalling 17280 fits\n",
      "Fitting 5 folds for each of 3456 candidates, totalling 17280 fits\n",
      "Fitting 5 folds for each of 3456 candidates, totalling 17280 fits\n",
      "Fitting 5 folds for each of 3456 candidates, totalling 17280 fits\n"
     ]
    }
   ],
   "source": [
    "xgb_results = {\n",
    "    \"RMSE\" : [],\n",
    "    \"R2\" : [],\n",
    "    \"PARAMS\" : []\n",
    "}\n",
    "\n",
    "xgb_custom_parameters = {\n",
    "    \"n_estimators\" : [10, 25, 50, 100],\n",
    "    \"learning_rate\" : [0.010, 0.025, 0.050, 0.075],\n",
    "    \"max_depth\" : [None, 1, 2, 3, 4, 5],\n",
    "    \"subsample\" : [0.5, 0.6, 0.7, 0.8, 0.9, 1.0],\n",
    "    \"min_child_weight\" : [1, 2, 3, 4, 5, 6]\n",
    "}\n",
    "\n",
    "for spec in specs:\n",
    "    # Separa as variáveis entre preditoras \"x\" e predita \"y\" e converte para float32\n",
    "    x = spec[[\"longitude\", \"latitude\", \"housing_median_age\", \"total_rooms\", \"total_bedrooms\", \"population\", \"households\", \"median_income\", \"ocean_proximity\"]].astype(\"float32\")\n",
    "    y = spec[\"median_house_value\"].astype(\"float32\")\n",
    "\n",
    "    # Separa os dados entre conjuntos de treino e teste \n",
    "    x_train, x_test, y_train, y_test = train_test_split(x, y, test_size=0.3, random_state=42)\n",
    "\n",
    "    # Instancia o XGBRegressor com random_state 42\n",
    "    xgb = XGBRegressor(random_state=42)\n",
    "\n",
    "    # Utiliza o GridSearchCV para estimar os melhores parâmetros utilizados para treinar o modelo\n",
    "    xgb_grid_search = GridSearchCV(estimator=xgb, param_grid=xgb_custom_parameters, cv=5, scoring=\"neg_mean_squared_error\", verbose=True, n_jobs=-1)\n",
    "\n",
    "    # Realiza o treinamento do modelo com dados de treino\n",
    "    xgb_grid_search.fit(x_train, y_train)\n",
    "\n",
    "    # Elege o melhor modelo utilizando a função best_estimator_\n",
    "    xgb_best_model = xgb_grid_search.best_estimator_\n",
    "\n",
    "    # Realiza a predição com base no melhor modelo\n",
    "    xgb_y_pred = xgb_best_model.predict(x_test)\n",
    "\n",
    "    # Calcula as métricas de erro do modelo RMSE e R2\n",
    "    rmse = np.sqrt(mean_squared_error(y_test, xgb_y_pred))\n",
    "    r2 = r2_score(y_test, xgb_y_pred)\n",
    "\n",
    "    # Adiciona o resultado do treinamento a lista de resultados\n",
    "    xgb_results.get(\"RMSE\").append(round(rmse, 2))\n",
    "    xgb_results.get(\"R2\").append(round(r2, 2))\n",
    "    xgb_results.get(\"PARAMS\").append(xgb_grid_search.best_params_)"
   ]
  },
  {
   "cell_type": "code",
   "execution_count": 14,
   "metadata": {},
   "outputs": [
    {
     "name": "stdout",
     "output_type": "stream",
     "text": [
      "================================================== RESULTADOS ==================================================\n",
      "RMSE: [48729.55, 48680.74, 48695.63, 48696.06]\n",
      "R²: [0.82, 0.82, 0.82, 0.82]\n",
      "PARAMS: [{'learning_rate': 0.075, 'max_depth': None, 'min_child_weight': 2, 'n_estimators': 100, 'subsample': 0.9}, {'learning_rate': 0.075, 'max_depth': None, 'min_child_weight': 2, 'n_estimators': 100, 'subsample': 0.9}, {'learning_rate': 0.075, 'max_depth': None, 'min_child_weight': 2, 'n_estimators': 100, 'subsample': 0.9}, {'learning_rate': 0.075, 'max_depth': None, 'min_child_weight': 2, 'n_estimators': 100, 'subsample': 0.9}]\n",
      "================================================================================================================\n",
      "\n",
      "\n",
      "=================================================== VENCEDOR ===================================================\n",
      "RMSE: 48680.73828125\n",
      "R²: 0.82\n",
      "PARAMS: {'learning_rate': 0.075, 'max_depth': None, 'min_child_weight': 2, 'n_estimators': 100, 'subsample': 0.9}\n",
      "================================================================================================================\n"
     ]
    }
   ],
   "source": [
    "print(\"================================================== RESULTADOS ==================================================\")\n",
    "print(f\"RMSE: {xgb_results.get('RMSE')}\")\n",
    "print(f\"R²: {xgb_results.get('R2')}\")\n",
    "print(f\"PARAMS: {xgb_results.get('PARAMS')}\")\n",
    "print(\"================================================================================================================\\n\\n\")\n",
    "\n",
    "print(\"=================================================== VENCEDOR ===================================================\")\n",
    "print(f\"RMSE: {xgb_results.get('RMSE')[1]}\")\n",
    "print(f\"R²: {xgb_results.get('R2')[1]}\")\n",
    "print(f\"PARAMS: {xgb_results.get('PARAMS')[1]}\")\n",
    "print(\"================================================================================================================\")"
   ]
  },
  {
   "cell_type": "markdown",
   "metadata": {},
   "source": [
    "Perceba que, neste momento, temos o [RandomForest Regressor](https://scikit-learn.org/stable/modules/generated/sklearn.ensemble.RandomForestRegressor.html) com RMSE médio de 48529.90 e, [XGBoost Regressor](https://xgboost.readthedocs.io/en/latest/python/python_api.html#xgboost.XGBRegressor) com 48700.50, ou seja, o primeiro modelo apresentou uma performance ligeramente melhor. Sendo assim, em um cenário de desempate, poderíamos considerar o RandomForestRegressor devido a sua facilidade de implementação e por ser computacionalmente menos custoso, visto que não utiliza a técnica de boosting, ou seja, o treinamento das árvores de maneira sequencial para correção de erros. Como último cenário, treinaremos o [LightGBM Regressor](https://lightgbm.readthedocs.io/en/latest/pythonapi/lightgbm.LGBMRegressor.html), que de modo geral, parece muito com o XGBoost, entretanto, conta com o \"leaf wise\", uma técnica prioriza a folha com informações mais relevantes para crescimento da árvore - diferente do RandomForest e XGBoost que não aplicam a técnica."
   ]
  },
  {
   "cell_type": "code",
   "execution_count": 15,
   "metadata": {},
   "outputs": [
    {
     "name": "stdout",
     "output_type": "stream",
     "text": [
      "Fitting 5 folds for each of 216 candidates, totalling 1080 fits\n",
      "[LightGBM] [Info] Total Bins 1843\n",
      "[LightGBM] [Info] Total Bins 1843\n",
      "[LightGBM] [Info] Number of data points in the train set: 11558, number of used features: 9\n",
      "[LightGBM] [Info] Total Bins 1844\n",
      "[LightGBM] [Info] Total Bins 1843\n",
      "[LightGBM] [Info] Total Bins 1843\n",
      "[LightGBM] [Info] Number of data points in the train set: 11558, number of used features: 9\n",
      "[LightGBM] [Info] Total Bins 1843\n",
      "[LightGBM] [Info] Number of data points in the train set: 11559, number of used features: 9\n",
      "[LightGBM] [Info] Number of data points in the train set: 11558, number of used features: 9\n",
      "[LightGBM] [Info] Total Bins 1844\n",
      "[LightGBM] [Info] Number of data points in the train set: 11558, number of used features: 9\n",
      "[LightGBM] [Info] Number of data points in the train set: 11558, number of used features: 9\n",
      "[LightGBM] [Info] Number of data points in the train set: 11559, number of used features: 9\n",
      "[LightGBM] [Info] Start training from score 206580.761897\n",
      "[LightGBM] [Info] Total Bins 1843\n",
      "[LightGBM] [Info] Start training from score 206580.761897\n",
      "[LightGBM] [Info] Total Bins 1844\n",
      "[LightGBM] [Info] Start training from score 207769.005018\n",
      "[LightGBM] [Info] Start training from score 207769.005018\n",
      "[LightGBM] [Info] Number of data points in the train set: 11558, number of used features: 9\n",
      "[LightGBM] [Info] Start training from score 207393.084263\n",
      "[LightGBM] [Info] Start training from score 206143.894618\n",
      "[LightGBM] [Info] Start training from score 206733.034605\n",
      "[LightGBM] [Info] Number of data points in the train set: 11559, number of used features: 9\n",
      "[LightGBM] [Info] Start training from score 206143.894618\n",
      "[LightGBM] [Info] Total Bins 1843\n",
      "[LightGBM] [Info] Total Bins 1843\n",
      "[LightGBM] [Info] Start training from score 206733.034605\n",
      "[LightGBM] [Info] Number of data points in the train set: 11558, number of used features: 9\n",
      "[LightGBM] [Info] Number of data points in the train set: 11558, number of used features: 9\n",
      "[LightGBM] [Info] Total Bins 1844\n",
      "[LightGBM] [Info] Number of data points in the train set: 11559, number of used features: 9\n",
      "[LightGBM] [Info] Start training from score 206143.894618\n",
      "[LightGBM] [Info] Start training from score 207769.005018\n",
      "[LightGBM] [Info] Start training from score 207393.084263\n",
      "[LightGBM] [Info] Total Bins 1843\n",
      "[LightGBM] [Info] Number of data points in the train set: 11558, number of used features: 9\n",
      "[LightGBM] [Info] Start training from score 206580.761897\n",
      "[LightGBM] [Info] Total Bins 1844\n",
      "[LightGBM] [Info] Number of data points in the train set: 11559, number of used features: 9\n",
      "[LightGBM] [Info] Start training from score 207393.084263\n",
      "[LightGBM] [Info] Total Bins 1844\n",
      "[LightGBM] [Info] Number of data points in the train set: 11559, number of used features: 9\n",
      "[LightGBM] [Info] Start training from score 206733.034605\n",
      "[LightGBM] [Info] Total Bins 1843\n",
      "[LightGBM] [Info] Number of data points in the train set: 11558, number of used features: 9\n",
      "[LightGBM] [Info] Start training from score 206143.894618\n",
      "[LightGBM] [Info] Total Bins 1843\n",
      "[LightGBM] [Info] Number of data points in the train set: 11558, number of used features: 9\n",
      "[LightGBM] [Info] Start training from score 206580.761897\n",
      "[LightGBM] [Info] Total Bins 1844\n",
      "[LightGBM] [Info] Number of data points in the train set: 11559, number of used features: 9\n",
      "[LightGBM] [Info] Start training from score 207393.084263\n",
      "[LightGBM] [Info] Total Bins 1843\n",
      "[LightGBM] [Info] Number of data points in the train set: 11558, number of used features: 9\n",
      "[LightGBM] [Info] Start training from score 207769.005018\n",
      "[LightGBM] [Info] Total Bins 1843\n",
      "[LightGBM] [Info] Number of data points in the train set: 11558, number of used features: 9\n",
      "[LightGBM] [Info] Start training from score 206143.894618\n",
      "[LightGBM] [Info] Total Bins 1843\n",
      "[LightGBM] [Info] Number of data points in the train set: 11558, number of used features: 9\n",
      "[LightGBM] [Info] Start training from score 207769.005018\n",
      "[LightGBM] [Info] Total Bins 1844\n",
      "[LightGBM] [Info] Number of data points in the train set: 11559, number of used features: 9\n",
      "[LightGBM] [Info] Start training from score 206733.034605\n",
      "[LightGBM] [Info] Total Bins 1843\n",
      "[LightGBM] [Info] Number of data points in the train set: 11558, number of used features: 9\n",
      "[LightGBM] [Info] Start training from score 206580.761897\n",
      "[LightGBM] [Info] Total Bins 1844\n",
      "[LightGBM] [Info] Number of data points in the train set: 11559, number of used features: 9\n",
      "[LightGBM] [Info] Start training from score 207393.084263\n",
      "[LightGBM] [Info] Total Bins 1844\n",
      "[LightGBM] [Info] Number of data points in the train set: 11559, number of used features: 9\n",
      "[LightGBM] [Info] Start training from score 206733.034605\n",
      "[LightGBM] [Info] Total Bins 1843\n",
      "[LightGBM] [Info] Number of data points in the train set: 11558, number of used features: 9\n",
      "[LightGBM] [Info] Start training from score 206143.894618\n",
      "[LightGBM] [Info] Total Bins 1843\n",
      "[LightGBM] [Info] Number of data points in the train set: 11558, number of used features: 9\n",
      "[LightGBM] [Info] Start training from score 207769.005018\n",
      "[LightGBM] [Info] Total Bins 1843\n",
      "[LightGBM] [Info] Number of data points in the train set: 11558, number of used features: 9\n",
      "[LightGBM] [Info] Start training from score 206580.761897\n",
      "[LightGBM] [Info] Total Bins 1844\n",
      "[LightGBM] [Info] Number of data points in the train set: 11559, number of used features: 9\n",
      "[LightGBM] [Info] Start training from score 207393.084263\n",
      "[LightGBM] [Info] Total Bins 1844\n",
      "[LightGBM] [Info] Number of data points in the train set: 11559, number of used features: 9\n",
      "[LightGBM] [Info] Start training from score 206733.034605\n",
      "[LightGBM] [Info] Total Bins 1843\n",
      "[LightGBM] [Info] Number of data points in the train set: 11558, number of used features: 9\n",
      "[LightGBM] [Info] Start training from score 206143.894618\n",
      "[LightGBM] [Info] Total Bins 1843\n",
      "[LightGBM] [Info] Number of data points in the train set: 11558, number of used features: 9\n",
      "[LightGBM] [Info] Start training from score 207769.005018\n",
      "[LightGBM] [Info] Total Bins 1843\n",
      "[LightGBM] [Info] Number of data points in the train set: 11558, number of used features: 9\n",
      "[LightGBM] [Info] Start training from score 206580.761897\n",
      "[LightGBM] [Info] Total Bins 1844\n",
      "[LightGBM] [Info] Number of data points in the train set: 11559, number of used features: 9\n",
      "[LightGBM] [Info] Start training from score 207393.084263\n",
      "[LightGBM] [Info] Total Bins 1844\n",
      "[LightGBM] [Info] Number of data points in the train set: 11559, number of used features: 9\n",
      "[LightGBM] [Info] Start training from score 206733.034605\n",
      "[LightGBM] [Info] Total Bins 1843\n",
      "[LightGBM] [Info] Number of data points in the train set: 11558, number of used features: 9\n",
      "[LightGBM] [Info] Start training from score 206143.894618\n",
      "[LightGBM] [Info] Total Bins 1843\n",
      "[LightGBM] [Info] Number of data points in the train set: 11558, number of used features: 9\n",
      "[LightGBM] [Info] Start training from score 207769.005018\n",
      "[LightGBM] [Info] Total Bins 1843\n",
      "[LightGBM] [Info] Number of data points in the train set: 11558, number of used features: 9\n",
      "[LightGBM] [Info] Start training from score 206580.761897\n",
      "[LightGBM] [Info] Total Bins 1844\n",
      "[LightGBM] [Info] Number of data points in the train set: 11559, number of used features: 9\n",
      "[LightGBM] [Info] Start training from score 207393.084263\n",
      "[LightGBM] [Info] Total Bins 1844\n",
      "[LightGBM] [Info] Number of data points in the train set: 11559, number of used features: 9\n",
      "[LightGBM] [Info] Start training from score 206733.034605\n",
      "[LightGBM] [Info] Total Bins 1843\n",
      "[LightGBM] [Info] Number of data points in the train set: 11558, number of used features: 9\n",
      "[LightGBM] [Info] Start training from score 206143.894618\n",
      "[LightGBM] [Info] Total Bins 1843\n",
      "[LightGBM] [Info] Number of data points in the train set: 11558, number of used features: 9\n",
      "[LightGBM] [Info] Start training from score 207769.005018\n",
      "[LightGBM] [Info] Total Bins 1843\n",
      "[LightGBM] [Info] Number of data points in the train set: 11558, number of used features: 9\n",
      "[LightGBM] [Info] Start training from score 206580.761897\n",
      "[LightGBM] [Info] Total Bins 1844\n",
      "[LightGBM] [Info] Number of data points in the train set: 11559, number of used features: 9\n",
      "[LightGBM] [Info] Start training from score 207393.084263\n",
      "[LightGBM] [Info] Total Bins 1844\n",
      "[LightGBM] [Info] Number of data points in the train set: 11559, number of used features: 9\n",
      "[LightGBM] [Info] Total Bins 1843\n",
      "[LightGBM] [Info] Number of data points in the train set: 11558, number of used features: 9\n",
      "[LightGBM] [Info] Start training from score 206143.894618\n"
     ]
    },
    {
     "ename": "KeyboardInterrupt",
     "evalue": "",
     "output_type": "error",
     "traceback": [
      "\u001b[0;31m---------------------------------------------------------------------------\u001b[0m",
      "\u001b[0;31mKeyboardInterrupt\u001b[0m                         Traceback (most recent call last)",
      "Cell \u001b[0;32mIn[15], line 31\u001b[0m\n\u001b[1;32m     28\u001b[0m gbm_grid_search \u001b[38;5;241m=\u001b[39m GridSearchCV(estimator\u001b[38;5;241m=\u001b[39mgbm, param_grid\u001b[38;5;241m=\u001b[39mgbm_custom_parameters, cv\u001b[38;5;241m=\u001b[39m\u001b[38;5;241m5\u001b[39m, scoring\u001b[38;5;241m=\u001b[39m\u001b[38;5;124m\"\u001b[39m\u001b[38;5;124mneg_mean_squared_error\u001b[39m\u001b[38;5;124m\"\u001b[39m, verbose\u001b[38;5;241m=\u001b[39m\u001b[38;5;28;01mTrue\u001b[39;00m, n_jobs\u001b[38;5;241m=\u001b[39m\u001b[38;5;241m-\u001b[39m\u001b[38;5;241m1\u001b[39m)\n\u001b[1;32m     30\u001b[0m \u001b[38;5;66;03m# Realiza o treinamento do modelo com dados de treino\u001b[39;00m\n\u001b[0;32m---> 31\u001b[0m \u001b[43mgbm_grid_search\u001b[49m\u001b[38;5;241;43m.\u001b[39;49m\u001b[43mfit\u001b[49m\u001b[43m(\u001b[49m\u001b[43mx_train\u001b[49m\u001b[43m,\u001b[49m\u001b[43m \u001b[49m\u001b[43my_train\u001b[49m\u001b[43m,\u001b[49m\u001b[43m \u001b[49m\u001b[43meval_set\u001b[49m\u001b[38;5;241;43m=\u001b[39;49m\u001b[43m[\u001b[49m\u001b[43m(\u001b[49m\u001b[43mx_test\u001b[49m\u001b[43m,\u001b[49m\u001b[43m \u001b[49m\u001b[43my_test\u001b[49m\u001b[43m)\u001b[49m\u001b[43m]\u001b[49m\u001b[43m,\u001b[49m\u001b[43m \u001b[49m\u001b[43meval_metric\u001b[49m\u001b[38;5;241;43m=\u001b[39;49m\u001b[38;5;124;43m\"\u001b[39;49m\u001b[38;5;124;43mrmse\u001b[39;49m\u001b[38;5;124;43m\"\u001b[39;49m\u001b[43m)\u001b[49m\n\u001b[1;32m     33\u001b[0m \u001b[38;5;66;03m# Elege o melhor modelo utilizando a função best_estimator_\u001b[39;00m\n\u001b[1;32m     34\u001b[0m gbm_best_model \u001b[38;5;241m=\u001b[39m gbm_grid_search\u001b[38;5;241m.\u001b[39mbest_estimator_\n",
      "File \u001b[0;32m~/.local/lib/python3.10/site-packages/sklearn/base.py:1473\u001b[0m, in \u001b[0;36m_fit_context.<locals>.decorator.<locals>.wrapper\u001b[0;34m(estimator, *args, **kwargs)\u001b[0m\n\u001b[1;32m   1466\u001b[0m     estimator\u001b[38;5;241m.\u001b[39m_validate_params()\n\u001b[1;32m   1468\u001b[0m \u001b[38;5;28;01mwith\u001b[39;00m config_context(\n\u001b[1;32m   1469\u001b[0m     skip_parameter_validation\u001b[38;5;241m=\u001b[39m(\n\u001b[1;32m   1470\u001b[0m         prefer_skip_nested_validation \u001b[38;5;129;01mor\u001b[39;00m global_skip_validation\n\u001b[1;32m   1471\u001b[0m     )\n\u001b[1;32m   1472\u001b[0m ):\n\u001b[0;32m-> 1473\u001b[0m     \u001b[38;5;28;01mreturn\u001b[39;00m \u001b[43mfit_method\u001b[49m\u001b[43m(\u001b[49m\u001b[43mestimator\u001b[49m\u001b[43m,\u001b[49m\u001b[43m \u001b[49m\u001b[38;5;241;43m*\u001b[39;49m\u001b[43margs\u001b[49m\u001b[43m,\u001b[49m\u001b[43m \u001b[49m\u001b[38;5;241;43m*\u001b[39;49m\u001b[38;5;241;43m*\u001b[39;49m\u001b[43mkwargs\u001b[49m\u001b[43m)\u001b[49m\n",
      "File \u001b[0;32m~/.local/lib/python3.10/site-packages/sklearn/model_selection/_search.py:1019\u001b[0m, in \u001b[0;36mBaseSearchCV.fit\u001b[0;34m(self, X, y, **params)\u001b[0m\n\u001b[1;32m   1013\u001b[0m     results \u001b[38;5;241m=\u001b[39m \u001b[38;5;28mself\u001b[39m\u001b[38;5;241m.\u001b[39m_format_results(\n\u001b[1;32m   1014\u001b[0m         all_candidate_params, n_splits, all_out, all_more_results\n\u001b[1;32m   1015\u001b[0m     )\n\u001b[1;32m   1017\u001b[0m     \u001b[38;5;28;01mreturn\u001b[39;00m results\n\u001b[0;32m-> 1019\u001b[0m \u001b[38;5;28;43mself\u001b[39;49m\u001b[38;5;241;43m.\u001b[39;49m\u001b[43m_run_search\u001b[49m\u001b[43m(\u001b[49m\u001b[43mevaluate_candidates\u001b[49m\u001b[43m)\u001b[49m\n\u001b[1;32m   1021\u001b[0m \u001b[38;5;66;03m# multimetric is determined here because in the case of a callable\u001b[39;00m\n\u001b[1;32m   1022\u001b[0m \u001b[38;5;66;03m# self.scoring the return type is only known after calling\u001b[39;00m\n\u001b[1;32m   1023\u001b[0m first_test_score \u001b[38;5;241m=\u001b[39m all_out[\u001b[38;5;241m0\u001b[39m][\u001b[38;5;124m\"\u001b[39m\u001b[38;5;124mtest_scores\u001b[39m\u001b[38;5;124m\"\u001b[39m]\n",
      "File \u001b[0;32m~/.local/lib/python3.10/site-packages/sklearn/model_selection/_search.py:1573\u001b[0m, in \u001b[0;36mGridSearchCV._run_search\u001b[0;34m(self, evaluate_candidates)\u001b[0m\n\u001b[1;32m   1571\u001b[0m \u001b[38;5;28;01mdef\u001b[39;00m \u001b[38;5;21m_run_search\u001b[39m(\u001b[38;5;28mself\u001b[39m, evaluate_candidates):\n\u001b[1;32m   1572\u001b[0m \u001b[38;5;250m    \u001b[39m\u001b[38;5;124;03m\"\"\"Search all candidates in param_grid\"\"\"\u001b[39;00m\n\u001b[0;32m-> 1573\u001b[0m     \u001b[43mevaluate_candidates\u001b[49m\u001b[43m(\u001b[49m\u001b[43mParameterGrid\u001b[49m\u001b[43m(\u001b[49m\u001b[38;5;28;43mself\u001b[39;49m\u001b[38;5;241;43m.\u001b[39;49m\u001b[43mparam_grid\u001b[49m\u001b[43m)\u001b[49m\u001b[43m)\u001b[49m\n",
      "File \u001b[0;32m~/.local/lib/python3.10/site-packages/sklearn/model_selection/_search.py:965\u001b[0m, in \u001b[0;36mBaseSearchCV.fit.<locals>.evaluate_candidates\u001b[0;34m(candidate_params, cv, more_results)\u001b[0m\n\u001b[1;32m    957\u001b[0m \u001b[38;5;28;01mif\u001b[39;00m \u001b[38;5;28mself\u001b[39m\u001b[38;5;241m.\u001b[39mverbose \u001b[38;5;241m>\u001b[39m \u001b[38;5;241m0\u001b[39m:\n\u001b[1;32m    958\u001b[0m     \u001b[38;5;28mprint\u001b[39m(\n\u001b[1;32m    959\u001b[0m         \u001b[38;5;124m\"\u001b[39m\u001b[38;5;124mFitting \u001b[39m\u001b[38;5;132;01m{0}\u001b[39;00m\u001b[38;5;124m folds for each of \u001b[39m\u001b[38;5;132;01m{1}\u001b[39;00m\u001b[38;5;124m candidates,\u001b[39m\u001b[38;5;124m\"\u001b[39m\n\u001b[1;32m    960\u001b[0m         \u001b[38;5;124m\"\u001b[39m\u001b[38;5;124m totalling \u001b[39m\u001b[38;5;132;01m{2}\u001b[39;00m\u001b[38;5;124m fits\u001b[39m\u001b[38;5;124m\"\u001b[39m\u001b[38;5;241m.\u001b[39mformat(\n\u001b[1;32m    961\u001b[0m             n_splits, n_candidates, n_candidates \u001b[38;5;241m*\u001b[39m n_splits\n\u001b[1;32m    962\u001b[0m         )\n\u001b[1;32m    963\u001b[0m     )\n\u001b[0;32m--> 965\u001b[0m out \u001b[38;5;241m=\u001b[39m \u001b[43mparallel\u001b[49m\u001b[43m(\u001b[49m\n\u001b[1;32m    966\u001b[0m \u001b[43m    \u001b[49m\u001b[43mdelayed\u001b[49m\u001b[43m(\u001b[49m\u001b[43m_fit_and_score\u001b[49m\u001b[43m)\u001b[49m\u001b[43m(\u001b[49m\n\u001b[1;32m    967\u001b[0m \u001b[43m        \u001b[49m\u001b[43mclone\u001b[49m\u001b[43m(\u001b[49m\u001b[43mbase_estimator\u001b[49m\u001b[43m)\u001b[49m\u001b[43m,\u001b[49m\n\u001b[1;32m    968\u001b[0m \u001b[43m        \u001b[49m\u001b[43mX\u001b[49m\u001b[43m,\u001b[49m\n\u001b[1;32m    969\u001b[0m \u001b[43m        \u001b[49m\u001b[43my\u001b[49m\u001b[43m,\u001b[49m\n\u001b[1;32m    970\u001b[0m \u001b[43m        \u001b[49m\u001b[43mtrain\u001b[49m\u001b[38;5;241;43m=\u001b[39;49m\u001b[43mtrain\u001b[49m\u001b[43m,\u001b[49m\n\u001b[1;32m    971\u001b[0m \u001b[43m        \u001b[49m\u001b[43mtest\u001b[49m\u001b[38;5;241;43m=\u001b[39;49m\u001b[43mtest\u001b[49m\u001b[43m,\u001b[49m\n\u001b[1;32m    972\u001b[0m \u001b[43m        \u001b[49m\u001b[43mparameters\u001b[49m\u001b[38;5;241;43m=\u001b[39;49m\u001b[43mparameters\u001b[49m\u001b[43m,\u001b[49m\n\u001b[1;32m    973\u001b[0m \u001b[43m        \u001b[49m\u001b[43msplit_progress\u001b[49m\u001b[38;5;241;43m=\u001b[39;49m\u001b[43m(\u001b[49m\u001b[43msplit_idx\u001b[49m\u001b[43m,\u001b[49m\u001b[43m \u001b[49m\u001b[43mn_splits\u001b[49m\u001b[43m)\u001b[49m\u001b[43m,\u001b[49m\n\u001b[1;32m    974\u001b[0m \u001b[43m        \u001b[49m\u001b[43mcandidate_progress\u001b[49m\u001b[38;5;241;43m=\u001b[39;49m\u001b[43m(\u001b[49m\u001b[43mcand_idx\u001b[49m\u001b[43m,\u001b[49m\u001b[43m \u001b[49m\u001b[43mn_candidates\u001b[49m\u001b[43m)\u001b[49m\u001b[43m,\u001b[49m\n\u001b[1;32m    975\u001b[0m \u001b[43m        \u001b[49m\u001b[38;5;241;43m*\u001b[39;49m\u001b[38;5;241;43m*\u001b[39;49m\u001b[43mfit_and_score_kwargs\u001b[49m\u001b[43m,\u001b[49m\n\u001b[1;32m    976\u001b[0m \u001b[43m    \u001b[49m\u001b[43m)\u001b[49m\n\u001b[1;32m    977\u001b[0m \u001b[43m    \u001b[49m\u001b[38;5;28;43;01mfor\u001b[39;49;00m\u001b[43m \u001b[49m\u001b[43m(\u001b[49m\u001b[43mcand_idx\u001b[49m\u001b[43m,\u001b[49m\u001b[43m \u001b[49m\u001b[43mparameters\u001b[49m\u001b[43m)\u001b[49m\u001b[43m,\u001b[49m\u001b[43m \u001b[49m\u001b[43m(\u001b[49m\u001b[43msplit_idx\u001b[49m\u001b[43m,\u001b[49m\u001b[43m \u001b[49m\u001b[43m(\u001b[49m\u001b[43mtrain\u001b[49m\u001b[43m,\u001b[49m\u001b[43m \u001b[49m\u001b[43mtest\u001b[49m\u001b[43m)\u001b[49m\u001b[43m)\u001b[49m\u001b[43m \u001b[49m\u001b[38;5;129;43;01min\u001b[39;49;00m\u001b[43m \u001b[49m\u001b[43mproduct\u001b[49m\u001b[43m(\u001b[49m\n\u001b[1;32m    978\u001b[0m \u001b[43m        \u001b[49m\u001b[38;5;28;43menumerate\u001b[39;49m\u001b[43m(\u001b[49m\u001b[43mcandidate_params\u001b[49m\u001b[43m)\u001b[49m\u001b[43m,\u001b[49m\n\u001b[1;32m    979\u001b[0m \u001b[43m        \u001b[49m\u001b[38;5;28;43menumerate\u001b[39;49m\u001b[43m(\u001b[49m\u001b[43mcv\u001b[49m\u001b[38;5;241;43m.\u001b[39;49m\u001b[43msplit\u001b[49m\u001b[43m(\u001b[49m\u001b[43mX\u001b[49m\u001b[43m,\u001b[49m\u001b[43m \u001b[49m\u001b[43my\u001b[49m\u001b[43m,\u001b[49m\u001b[43m \u001b[49m\u001b[38;5;241;43m*\u001b[39;49m\u001b[38;5;241;43m*\u001b[39;49m\u001b[43mrouted_params\u001b[49m\u001b[38;5;241;43m.\u001b[39;49m\u001b[43msplitter\u001b[49m\u001b[38;5;241;43m.\u001b[39;49m\u001b[43msplit\u001b[49m\u001b[43m)\u001b[49m\u001b[43m)\u001b[49m\u001b[43m,\u001b[49m\n\u001b[1;32m    980\u001b[0m \u001b[43m    \u001b[49m\u001b[43m)\u001b[49m\n\u001b[1;32m    981\u001b[0m \u001b[43m\u001b[49m\u001b[43m)\u001b[49m\n\u001b[1;32m    983\u001b[0m \u001b[38;5;28;01mif\u001b[39;00m \u001b[38;5;28mlen\u001b[39m(out) \u001b[38;5;241m<\u001b[39m \u001b[38;5;241m1\u001b[39m:\n\u001b[1;32m    984\u001b[0m     \u001b[38;5;28;01mraise\u001b[39;00m \u001b[38;5;167;01mValueError\u001b[39;00m(\n\u001b[1;32m    985\u001b[0m         \u001b[38;5;124m\"\u001b[39m\u001b[38;5;124mNo fits were performed. \u001b[39m\u001b[38;5;124m\"\u001b[39m\n\u001b[1;32m    986\u001b[0m         \u001b[38;5;124m\"\u001b[39m\u001b[38;5;124mWas the CV iterator empty? \u001b[39m\u001b[38;5;124m\"\u001b[39m\n\u001b[1;32m    987\u001b[0m         \u001b[38;5;124m\"\u001b[39m\u001b[38;5;124mWere there no candidates?\u001b[39m\u001b[38;5;124m\"\u001b[39m\n\u001b[1;32m    988\u001b[0m     )\n",
      "File \u001b[0;32m~/.local/lib/python3.10/site-packages/sklearn/utils/parallel.py:74\u001b[0m, in \u001b[0;36mParallel.__call__\u001b[0;34m(self, iterable)\u001b[0m\n\u001b[1;32m     69\u001b[0m config \u001b[38;5;241m=\u001b[39m get_config()\n\u001b[1;32m     70\u001b[0m iterable_with_config \u001b[38;5;241m=\u001b[39m (\n\u001b[1;32m     71\u001b[0m     (_with_config(delayed_func, config), args, kwargs)\n\u001b[1;32m     72\u001b[0m     \u001b[38;5;28;01mfor\u001b[39;00m delayed_func, args, kwargs \u001b[38;5;129;01min\u001b[39;00m iterable\n\u001b[1;32m     73\u001b[0m )\n\u001b[0;32m---> 74\u001b[0m \u001b[38;5;28;01mreturn\u001b[39;00m \u001b[38;5;28;43msuper\u001b[39;49m\u001b[43m(\u001b[49m\u001b[43m)\u001b[49m\u001b[38;5;241;43m.\u001b[39;49m\u001b[38;5;21;43m__call__\u001b[39;49m\u001b[43m(\u001b[49m\u001b[43miterable_with_config\u001b[49m\u001b[43m)\u001b[49m\n",
      "File \u001b[0;32m~/.local/lib/python3.10/site-packages/joblib/parallel.py:2007\u001b[0m, in \u001b[0;36mParallel.__call__\u001b[0;34m(self, iterable)\u001b[0m\n\u001b[1;32m   2001\u001b[0m \u001b[38;5;66;03m# The first item from the output is blank, but it makes the interpreter\u001b[39;00m\n\u001b[1;32m   2002\u001b[0m \u001b[38;5;66;03m# progress until it enters the Try/Except block of the generator and\u001b[39;00m\n\u001b[1;32m   2003\u001b[0m \u001b[38;5;66;03m# reaches the first `yield` statement. This starts the asynchronous\u001b[39;00m\n\u001b[1;32m   2004\u001b[0m \u001b[38;5;66;03m# dispatch of the tasks to the workers.\u001b[39;00m\n\u001b[1;32m   2005\u001b[0m \u001b[38;5;28mnext\u001b[39m(output)\n\u001b[0;32m-> 2007\u001b[0m \u001b[38;5;28;01mreturn\u001b[39;00m output \u001b[38;5;28;01mif\u001b[39;00m \u001b[38;5;28mself\u001b[39m\u001b[38;5;241m.\u001b[39mreturn_generator \u001b[38;5;28;01melse\u001b[39;00m \u001b[38;5;28;43mlist\u001b[39;49m\u001b[43m(\u001b[49m\u001b[43moutput\u001b[49m\u001b[43m)\u001b[49m\n",
      "File \u001b[0;32m~/.local/lib/python3.10/site-packages/joblib/parallel.py:1650\u001b[0m, in \u001b[0;36mParallel._get_outputs\u001b[0;34m(self, iterator, pre_dispatch)\u001b[0m\n\u001b[1;32m   1647\u001b[0m     \u001b[38;5;28;01myield\u001b[39;00m\n\u001b[1;32m   1649\u001b[0m     \u001b[38;5;28;01mwith\u001b[39;00m \u001b[38;5;28mself\u001b[39m\u001b[38;5;241m.\u001b[39m_backend\u001b[38;5;241m.\u001b[39mretrieval_context():\n\u001b[0;32m-> 1650\u001b[0m         \u001b[38;5;28;01myield from\u001b[39;00m \u001b[38;5;28mself\u001b[39m\u001b[38;5;241m.\u001b[39m_retrieve()\n\u001b[1;32m   1652\u001b[0m \u001b[38;5;28;01mexcept\u001b[39;00m \u001b[38;5;167;01mGeneratorExit\u001b[39;00m:\n\u001b[1;32m   1653\u001b[0m     \u001b[38;5;66;03m# The generator has been garbage collected before being fully\u001b[39;00m\n\u001b[1;32m   1654\u001b[0m     \u001b[38;5;66;03m# consumed. This aborts the remaining tasks if possible and warn\u001b[39;00m\n\u001b[1;32m   1655\u001b[0m     \u001b[38;5;66;03m# the user if necessary.\u001b[39;00m\n\u001b[1;32m   1656\u001b[0m     \u001b[38;5;28mself\u001b[39m\u001b[38;5;241m.\u001b[39m_exception \u001b[38;5;241m=\u001b[39m \u001b[38;5;28;01mTrue\u001b[39;00m\n",
      "File \u001b[0;32m~/.local/lib/python3.10/site-packages/joblib/parallel.py:1762\u001b[0m, in \u001b[0;36mParallel._retrieve\u001b[0;34m(self)\u001b[0m\n\u001b[1;32m   1757\u001b[0m \u001b[38;5;66;03m# If the next job is not ready for retrieval yet, we just wait for\u001b[39;00m\n\u001b[1;32m   1758\u001b[0m \u001b[38;5;66;03m# async callbacks to progress.\u001b[39;00m\n\u001b[1;32m   1759\u001b[0m \u001b[38;5;28;01mif\u001b[39;00m ((\u001b[38;5;28mlen\u001b[39m(\u001b[38;5;28mself\u001b[39m\u001b[38;5;241m.\u001b[39m_jobs) \u001b[38;5;241m==\u001b[39m \u001b[38;5;241m0\u001b[39m) \u001b[38;5;129;01mor\u001b[39;00m\n\u001b[1;32m   1760\u001b[0m     (\u001b[38;5;28mself\u001b[39m\u001b[38;5;241m.\u001b[39m_jobs[\u001b[38;5;241m0\u001b[39m]\u001b[38;5;241m.\u001b[39mget_status(\n\u001b[1;32m   1761\u001b[0m         timeout\u001b[38;5;241m=\u001b[39m\u001b[38;5;28mself\u001b[39m\u001b[38;5;241m.\u001b[39mtimeout) \u001b[38;5;241m==\u001b[39m TASK_PENDING)):\n\u001b[0;32m-> 1762\u001b[0m     \u001b[43mtime\u001b[49m\u001b[38;5;241;43m.\u001b[39;49m\u001b[43msleep\u001b[49m\u001b[43m(\u001b[49m\u001b[38;5;241;43m0.01\u001b[39;49m\u001b[43m)\u001b[49m\n\u001b[1;32m   1763\u001b[0m     \u001b[38;5;28;01mcontinue\u001b[39;00m\n\u001b[1;32m   1765\u001b[0m \u001b[38;5;66;03m# We need to be careful: the job list can be filling up as\u001b[39;00m\n\u001b[1;32m   1766\u001b[0m \u001b[38;5;66;03m# we empty it and Python list are not thread-safe by\u001b[39;00m\n\u001b[1;32m   1767\u001b[0m \u001b[38;5;66;03m# default hence the use of the lock\u001b[39;00m\n",
      "\u001b[0;31mKeyboardInterrupt\u001b[0m: "
     ]
    }
   ],
   "source": [
    "gbm_results = {\n",
    "    \"RMSE\" : [],\n",
    "    \"R2\" : [],\n",
    "    \"PARAMS\" : []\n",
    "}\n",
    "\n",
    "gbm_custom_parameters = {\n",
    "    \"first_metric_only\" : [True],\n",
    "    \"n_estimators\" : [50, 100],\n",
    "    \"learning_rate\" : [0.025, 0.050, 0.100],\n",
    "    \"max_depth\" : [None, 1, 2, 3],\n",
    "    \"subsample\" : [0.7, 0.8, 0.9],\n",
    "    \"min_child_weight\" : [1, 2, 3],\n",
    "}\n",
    "\n",
    "for spec in specs:\n",
    "    # Separa as variáveis entre preditoras \"x\" e predita \"y\" e converte para float32\n",
    "    x = spec[[\"longitude\", \"latitude\", \"housing_median_age\", \"total_rooms\", \"total_bedrooms\", \"population\", \"households\", \"median_income\", \"ocean_proximity\"]].astype(\"float32\")\n",
    "    y = spec[\"median_house_value\"].astype(\"float32\")\n",
    "\n",
    "    # Separa os dados entre conjuntos de treino e teste \n",
    "    x_train, x_test, y_train, y_test = train_test_split(x, y, test_size=0.3, random_state=42)\n",
    "\n",
    "    # Instancia o LGBMRegressor com random_state 42\n",
    "    gbm = LGBMRegressor(random_state=42, metric=\"logloss\", force_col_wise=True)\n",
    "\n",
    "    # Utiliza o GridSearchCV para estimar os melhores parâmetros utilizados para treinar o modelo\n",
    "    gbm_grid_search = GridSearchCV(estimator=gbm, param_grid=gbm_custom_parameters, cv=5, scoring=\"neg_mean_squared_error\", verbose=True, n_jobs=-1)\n",
    "\n",
    "    # Realiza o treinamento do modelo com dados de treino\n",
    "    gbm_grid_search.fit(x_train, y_train, eval_set=[(x_test, y_test)], eval_metric=\"rmse\")\n",
    "\n",
    "    # Elege o melhor modelo utilizando a função best_estimator_\n",
    "    gbm_best_model = gbm_grid_search.best_estimator_\n",
    "\n",
    "    # Realiza a predição com base no melhor modelo\n",
    "    gbm_y_pred = gbm_best_model.predict(x_test)\n",
    "\n",
    "    # Calcula as métricas de erro do modelo RMSE e R2\n",
    "    rmse = np.sqrt(mean_squared_error(y_test, gbm_y_pred))\n",
    "    r2 = r2_score(y_test, gbm_y_pred)\n",
    "\n",
    "    # Adiciona o resultado do treinamento a lista de resultados\n",
    "    gbm_results.get(\"RMSE\").append(round(rmse, 2))\n",
    "    gbm_results.get(\"R2\").append(round(r2, 2))\n",
    "    gbm_results.get(\"PARAMS\").append(gbm_grid_search.best_params_)"
   ]
  },
  {
   "cell_type": "code",
   "execution_count": 16,
   "metadata": {},
   "outputs": [
    {
     "name": "stdout",
     "output_type": "stream",
     "text": [
      "================================================== RESULTADOS ==================================================\n",
      "RMSE: []\n",
      "R²: []\n",
      "PARAMS: []\n",
      "================================================================================================================\n",
      "\n",
      "\n",
      "=================================================== VENCEDOR ===================================================\n"
     ]
    },
    {
     "ename": "IndexError",
     "evalue": "list index out of range",
     "output_type": "error",
     "traceback": [
      "\u001b[0;31m---------------------------------------------------------------------------\u001b[0m",
      "\u001b[0;31mIndexError\u001b[0m                                Traceback (most recent call last)",
      "Cell \u001b[0;32mIn[16], line 8\u001b[0m\n\u001b[1;32m      5\u001b[0m \u001b[38;5;28mprint\u001b[39m(\u001b[38;5;124m\"\u001b[39m\u001b[38;5;124m================================================================================================================\u001b[39m\u001b[38;5;130;01m\\n\u001b[39;00m\u001b[38;5;130;01m\\n\u001b[39;00m\u001b[38;5;124m\"\u001b[39m)\n\u001b[1;32m      7\u001b[0m \u001b[38;5;28mprint\u001b[39m(\u001b[38;5;124m\"\u001b[39m\u001b[38;5;124m=================================================== VENCEDOR ===================================================\u001b[39m\u001b[38;5;124m\"\u001b[39m)\n\u001b[0;32m----> 8\u001b[0m \u001b[38;5;28mprint\u001b[39m(\u001b[38;5;124mf\u001b[39m\u001b[38;5;124m\"\u001b[39m\u001b[38;5;124mRMSE: \u001b[39m\u001b[38;5;132;01m{\u001b[39;00m\u001b[43mgbm_results\u001b[49m\u001b[38;5;241;43m.\u001b[39;49m\u001b[43mget\u001b[49m\u001b[43m(\u001b[49m\u001b[38;5;124;43m'\u001b[39;49m\u001b[38;5;124;43mRMSE\u001b[39;49m\u001b[38;5;124;43m'\u001b[39;49m\u001b[43m)\u001b[49m\u001b[43m[\u001b[49m\u001b[38;5;241;43m1\u001b[39;49m\u001b[43m]\u001b[49m\u001b[38;5;132;01m}\u001b[39;00m\u001b[38;5;124m\"\u001b[39m)\n\u001b[1;32m      9\u001b[0m \u001b[38;5;28mprint\u001b[39m(\u001b[38;5;124mf\u001b[39m\u001b[38;5;124m\"\u001b[39m\u001b[38;5;124mR²: \u001b[39m\u001b[38;5;132;01m{\u001b[39;00mgbm_results\u001b[38;5;241m.\u001b[39mget(\u001b[38;5;124m'\u001b[39m\u001b[38;5;124mR2\u001b[39m\u001b[38;5;124m'\u001b[39m)[\u001b[38;5;241m1\u001b[39m]\u001b[38;5;132;01m}\u001b[39;00m\u001b[38;5;124m\"\u001b[39m)\n\u001b[1;32m     10\u001b[0m \u001b[38;5;28mprint\u001b[39m(\u001b[38;5;124mf\u001b[39m\u001b[38;5;124m\"\u001b[39m\u001b[38;5;124mPARAMS: \u001b[39m\u001b[38;5;132;01m{\u001b[39;00mgbm_results\u001b[38;5;241m.\u001b[39mget(\u001b[38;5;124m'\u001b[39m\u001b[38;5;124mPARAMS\u001b[39m\u001b[38;5;124m'\u001b[39m)[\u001b[38;5;241m1\u001b[39m]\u001b[38;5;132;01m}\u001b[39;00m\u001b[38;5;124m\"\u001b[39m)\n",
      "\u001b[0;31mIndexError\u001b[0m: list index out of range"
     ]
    }
   ],
   "source": [
    "print(\"================================================== RESULTADOS ==================================================\")\n",
    "print(f\"RMSE: {gbm_results.get('RMSE')}\")\n",
    "print(f\"R²: {gbm_results.get('R2')}\")\n",
    "print(f\"PARAMS: {gbm_results.get('PARAMS')}\")\n",
    "print(\"================================================================================================================\\n\\n\")\n",
    "\n",
    "print(\"=================================================== VENCEDOR ===================================================\")\n",
    "print(f\"RMSE: {gbm_results.get('RMSE')[1]}\")\n",
    "print(f\"R²: {gbm_results.get('R2')[1]}\")\n",
    "print(f\"PARAMS: {gbm_results.get('PARAMS')[1]}\")\n",
    "print(\"================================================================================================================\")"
   ]
  }
 ],
 "metadata": {
  "kernelspec": {
   "display_name": "Python 3",
   "language": "python",
   "name": "python3"
  },
  "language_info": {
   "codemirror_mode": {
    "name": "ipython",
    "version": 3
   },
   "file_extension": ".py",
   "mimetype": "text/x-python",
   "name": "python",
   "nbconvert_exporter": "python",
   "pygments_lexer": "ipython3",
   "version": "3.10.12"
  }
 },
 "nbformat": 4,
 "nbformat_minor": 2
}
